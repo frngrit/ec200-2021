{
 "cells": [
  {
   "cell_type": "code",
   "execution_count": 1,
   "metadata": {},
   "outputs": [],
   "source": [
    "import pandas as pd"
   ]
  },
  {
   "cell_type": "code",
   "execution_count": 2,
   "metadata": {},
   "outputs": [],
   "source": [
    "df = pd.read_csv('cleaned_data.csv',low_memory=False)"
   ]
  },
  {
   "cell_type": "code",
   "execution_count": 3,
   "metadata": {},
   "outputs": [
    {
     "data": {
      "text/html": [
       "<div>\n",
       "<style scoped>\n",
       "    .dataframe tbody tr th:only-of-type {\n",
       "        vertical-align: middle;\n",
       "    }\n",
       "\n",
       "    .dataframe tbody tr th {\n",
       "        vertical-align: top;\n",
       "    }\n",
       "\n",
       "    .dataframe thead th {\n",
       "        text-align: right;\n",
       "    }\n",
       "</style>\n",
       "<table border=\"1\" class=\"dataframe\">\n",
       "  <thead>\n",
       "    <tr style=\"text-align: right;\">\n",
       "      <th></th>\n",
       "      <th>date</th>\n",
       "      <th>tweets</th>\n",
       "      <th>return1HR</th>\n",
       "      <th>return2HR</th>\n",
       "      <th>return6HR</th>\n",
       "      <th>return12HR</th>\n",
       "      <th>return24HR</th>\n",
       "      <th>user_followers</th>\n",
       "      <th>user_verified</th>\n",
       "      <th>user_friends</th>\n",
       "      <th>user_favourites</th>\n",
       "      <th>is_retweet</th>\n",
       "      <th>cleaned_text</th>\n",
       "    </tr>\n",
       "  </thead>\n",
       "  <tbody>\n",
       "    <tr>\n",
       "      <th>0</th>\n",
       "      <td>2021-02-05 11:00:00</td>\n",
       "      <td>['debunk', 'myth', 'by']</td>\n",
       "      <td>NaN</td>\n",
       "      <td>NaN</td>\n",
       "      <td>NaN</td>\n",
       "      <td>NaN</td>\n",
       "      <td>NaN</td>\n",
       "      <td>301.0</td>\n",
       "      <td>False</td>\n",
       "      <td>1075.0</td>\n",
       "      <td>361.0</td>\n",
       "      <td>False</td>\n",
       "      <td>['debunk', 'myth', 'by']</td>\n",
       "    </tr>\n",
       "    <tr>\n",
       "      <th>1</th>\n",
       "      <td>2021-02-05 11:00:00</td>\n",
       "      <td>['weekend', 'read', 'keen', 'to', 'learn', 'ab...</td>\n",
       "      <td>NaN</td>\n",
       "      <td>NaN</td>\n",
       "      <td>NaN</td>\n",
       "      <td>NaN</td>\n",
       "      <td>NaN</td>\n",
       "      <td>301.0</td>\n",
       "      <td>False</td>\n",
       "      <td>1075.0</td>\n",
       "      <td>361.0</td>\n",
       "      <td>False</td>\n",
       "      <td>['weekend', 'read', 'keen', 'to', 'learn', 'ab...</td>\n",
       "    </tr>\n",
       "    <tr>\n",
       "      <th>2</th>\n",
       "      <td>2021-02-05 11:00:00</td>\n",
       "      <td>['bloomberg', 'LP', 'with']</td>\n",
       "      <td>NaN</td>\n",
       "      <td>NaN</td>\n",
       "      <td>NaN</td>\n",
       "      <td>NaN</td>\n",
       "      <td>NaN</td>\n",
       "      <td>301.0</td>\n",
       "      <td>False</td>\n",
       "      <td>1075.0</td>\n",
       "      <td>361.0</td>\n",
       "      <td>False</td>\n",
       "      <td>['bloomberg', 'LP', 'with']</td>\n",
       "    </tr>\n",
       "    <tr>\n",
       "      <th>3</th>\n",
       "      <td>2021-02-05 11:00:00</td>\n",
       "      <td>['by']</td>\n",
       "      <td>NaN</td>\n",
       "      <td>NaN</td>\n",
       "      <td>NaN</td>\n",
       "      <td>NaN</td>\n",
       "      <td>NaN</td>\n",
       "      <td>301.0</td>\n",
       "      <td>False</td>\n",
       "      <td>1075.0</td>\n",
       "      <td>361.0</td>\n",
       "      <td>False</td>\n",
       "      <td>['by']</td>\n",
       "    </tr>\n",
       "    <tr>\n",
       "      <th>4</th>\n",
       "      <td>2021-02-05 11:00:00</td>\n",
       "      <td>['to', 'the', 'moon']</td>\n",
       "      <td>NaN</td>\n",
       "      <td>NaN</td>\n",
       "      <td>NaN</td>\n",
       "      <td>NaN</td>\n",
       "      <td>NaN</td>\n",
       "      <td>37.0</td>\n",
       "      <td>False</td>\n",
       "      <td>123.0</td>\n",
       "      <td>410.0</td>\n",
       "      <td>False</td>\n",
       "      <td>['to', 'the', 'moon']</td>\n",
       "    </tr>\n",
       "    <tr>\n",
       "      <th>...</th>\n",
       "      <td>...</td>\n",
       "      <td>...</td>\n",
       "      <td>...</td>\n",
       "      <td>...</td>\n",
       "      <td>...</td>\n",
       "      <td>...</td>\n",
       "      <td>...</td>\n",
       "      <td>...</td>\n",
       "      <td>...</td>\n",
       "      <td>...</td>\n",
       "      <td>...</td>\n",
       "      <td>...</td>\n",
       "      <td>...</td>\n",
       "    </tr>\n",
       "    <tr>\n",
       "      <th>1950223</th>\n",
       "      <td>2021-12-12</td>\n",
       "      <td>['michael', 'bitcoin', 'bitcoin', 'total', 'Bn...</td>\n",
       "      <td>0.003524</td>\n",
       "      <td>0.008592</td>\n",
       "      <td>-0.098025</td>\n",
       "      <td>-0.104463</td>\n",
       "      <td>-0.16744</td>\n",
       "      <td>44.0</td>\n",
       "      <td>False</td>\n",
       "      <td>3.0</td>\n",
       "      <td>5.0</td>\n",
       "      <td>False</td>\n",
       "      <td>['michael', 'bitcoin', 'bitcoin', 'total', 'Bn...</td>\n",
       "    </tr>\n",
       "    <tr>\n",
       "      <th>1950224</th>\n",
       "      <td>2021-12-12</td>\n",
       "      <td>['If', 'you', 'join', 'In', 'At', 'you', 'will...</td>\n",
       "      <td>0.003524</td>\n",
       "      <td>0.008592</td>\n",
       "      <td>-0.098025</td>\n",
       "      <td>-0.104463</td>\n",
       "      <td>-0.16744</td>\n",
       "      <td>1114.0</td>\n",
       "      <td>False</td>\n",
       "      <td>622.0</td>\n",
       "      <td>233.0</td>\n",
       "      <td>False</td>\n",
       "      <td>['If', 'you', 'join', 'In', 'At', 'you', 'will...</td>\n",
       "    </tr>\n",
       "    <tr>\n",
       "      <th>1950225</th>\n",
       "      <td>2021-12-12</td>\n",
       "      <td>['crypto', 'price', 'bitcoin', 'axieinfin', 'v...</td>\n",
       "      <td>0.003524</td>\n",
       "      <td>0.008592</td>\n",
       "      <td>-0.098025</td>\n",
       "      <td>-0.104463</td>\n",
       "      <td>-0.16744</td>\n",
       "      <td>15.0</td>\n",
       "      <td>False</td>\n",
       "      <td>1.0</td>\n",
       "      <td>421.0</td>\n",
       "      <td>False</td>\n",
       "      <td>['crypto', 'price', 'bitcoin', 'axieinfin', 'v...</td>\n",
       "    </tr>\n",
       "    <tr>\n",
       "      <th>1950226</th>\n",
       "      <td>2021-12-12</td>\n",
       "      <td>['retest', 'the', 'previou', 'support', 'as', ...</td>\n",
       "      <td>0.003524</td>\n",
       "      <td>0.008592</td>\n",
       "      <td>-0.098025</td>\n",
       "      <td>-0.104463</td>\n",
       "      <td>-0.16744</td>\n",
       "      <td>1986.0</td>\n",
       "      <td>False</td>\n",
       "      <td>16.0</td>\n",
       "      <td>14526.0</td>\n",
       "      <td>False</td>\n",
       "      <td>['retest', 'the', 'previou', 'support', 'as', ...</td>\n",
       "    </tr>\n",
       "    <tr>\n",
       "      <th>1950227</th>\n",
       "      <td>2021-12-12</td>\n",
       "      <td>['up', 'over']</td>\n",
       "      <td>0.003524</td>\n",
       "      <td>0.008592</td>\n",
       "      <td>-0.098025</td>\n",
       "      <td>-0.104463</td>\n",
       "      <td>-0.16744</td>\n",
       "      <td>1129.0</td>\n",
       "      <td>False</td>\n",
       "      <td>257.0</td>\n",
       "      <td>13175.0</td>\n",
       "      <td>False</td>\n",
       "      <td>['up', 'over']</td>\n",
       "    </tr>\n",
       "  </tbody>\n",
       "</table>\n",
       "<p>1950228 rows × 13 columns</p>\n",
       "</div>"
      ],
      "text/plain": [
       "                        date  \\\n",
       "0        2021-02-05 11:00:00   \n",
       "1        2021-02-05 11:00:00   \n",
       "2        2021-02-05 11:00:00   \n",
       "3        2021-02-05 11:00:00   \n",
       "4        2021-02-05 11:00:00   \n",
       "...                      ...   \n",
       "1950223           2021-12-12   \n",
       "1950224           2021-12-12   \n",
       "1950225           2021-12-12   \n",
       "1950226           2021-12-12   \n",
       "1950227           2021-12-12   \n",
       "\n",
       "                                                    tweets  return1HR  \\\n",
       "0                                 ['debunk', 'myth', 'by']        NaN   \n",
       "1        ['weekend', 'read', 'keen', 'to', 'learn', 'ab...        NaN   \n",
       "2                              ['bloomberg', 'LP', 'with']        NaN   \n",
       "3                                                   ['by']        NaN   \n",
       "4                                    ['to', 'the', 'moon']        NaN   \n",
       "...                                                    ...        ...   \n",
       "1950223  ['michael', 'bitcoin', 'bitcoin', 'total', 'Bn...   0.003524   \n",
       "1950224  ['If', 'you', 'join', 'In', 'At', 'you', 'will...   0.003524   \n",
       "1950225  ['crypto', 'price', 'bitcoin', 'axieinfin', 'v...   0.003524   \n",
       "1950226  ['retest', 'the', 'previou', 'support', 'as', ...   0.003524   \n",
       "1950227                                     ['up', 'over']   0.003524   \n",
       "\n",
       "         return2HR  return6HR  return12HR  return24HR  user_followers  \\\n",
       "0              NaN        NaN         NaN         NaN           301.0   \n",
       "1              NaN        NaN         NaN         NaN           301.0   \n",
       "2              NaN        NaN         NaN         NaN           301.0   \n",
       "3              NaN        NaN         NaN         NaN           301.0   \n",
       "4              NaN        NaN         NaN         NaN            37.0   \n",
       "...            ...        ...         ...         ...             ...   \n",
       "1950223   0.008592  -0.098025   -0.104463    -0.16744            44.0   \n",
       "1950224   0.008592  -0.098025   -0.104463    -0.16744          1114.0   \n",
       "1950225   0.008592  -0.098025   -0.104463    -0.16744            15.0   \n",
       "1950226   0.008592  -0.098025   -0.104463    -0.16744          1986.0   \n",
       "1950227   0.008592  -0.098025   -0.104463    -0.16744          1129.0   \n",
       "\n",
       "         user_verified  user_friends  user_favourites is_retweet  \\\n",
       "0                False        1075.0            361.0      False   \n",
       "1                False        1075.0            361.0      False   \n",
       "2                False        1075.0            361.0      False   \n",
       "3                False        1075.0            361.0      False   \n",
       "4                False         123.0            410.0      False   \n",
       "...                ...           ...              ...        ...   \n",
       "1950223          False           3.0              5.0      False   \n",
       "1950224          False         622.0            233.0      False   \n",
       "1950225          False           1.0            421.0      False   \n",
       "1950226          False          16.0          14526.0      False   \n",
       "1950227          False         257.0          13175.0      False   \n",
       "\n",
       "                                              cleaned_text  \n",
       "0                                 ['debunk', 'myth', 'by']  \n",
       "1        ['weekend', 'read', 'keen', 'to', 'learn', 'ab...  \n",
       "2                              ['bloomberg', 'LP', 'with']  \n",
       "3                                                   ['by']  \n",
       "4                                    ['to', 'the', 'moon']  \n",
       "...                                                    ...  \n",
       "1950223  ['michael', 'bitcoin', 'bitcoin', 'total', 'Bn...  \n",
       "1950224  ['If', 'you', 'join', 'In', 'At', 'you', 'will...  \n",
       "1950225  ['crypto', 'price', 'bitcoin', 'axieinfin', 'v...  \n",
       "1950226  ['retest', 'the', 'previou', 'support', 'as', ...  \n",
       "1950227                                     ['up', 'over']  \n",
       "\n",
       "[1950228 rows x 13 columns]"
      ]
     },
     "execution_count": 3,
     "metadata": {},
     "output_type": "execute_result"
    }
   ],
   "source": [
    "df"
   ]
  },
  {
   "cell_type": "code",
   "execution_count": 23,
   "metadata": {},
   "outputs": [],
   "source": [
    "df.set_index(['date'],inplace =True)"
   ]
  },
  {
   "cell_type": "code",
   "execution_count": 24,
   "metadata": {},
   "outputs": [],
   "source": [
    "import matplotlib.pyplot as plt\n",
    "import seaborn as sns"
   ]
  },
  {
   "cell_type": "code",
   "execution_count": 25,
   "metadata": {},
   "outputs": [
    {
     "name": "stderr",
     "output_type": "stream",
     "text": [
      "C:\\Users\\frank\\anaconda3\\lib\\site-packages\\matplotlib\\cbook\\__init__.py:1376: VisibleDeprecationWarning: Creating an ndarray from ragged nested sequences (which is a list-or-tuple of lists-or-tuples-or ndarrays with different lengths or shapes) is deprecated. If you meant to do this, you must specify 'dtype=object' when creating the ndarray.\n",
      "  X = np.atleast_1d(X.T if isinstance(X, np.ndarray) else np.asarray(X))\n"
     ]
    },
    {
     "data": {
      "text/plain": [
       "<matplotlib.axes._subplots.AxesSubplot at 0x1fa747fcdf0>"
      ]
     },
     "execution_count": 25,
     "metadata": {},
     "output_type": "execute_result"
    },
    {
     "data": {
      "image/png": "[encoded data removed]",
      "text/plain": [
       "<Figure size 432x288 with 1 Axes>"
      ]
     },
     "metadata": {
      "needs_background": "light"
     },
     "output_type": "display_data"
    }
   ],
   "source": [
    "df.boxplot(column=['return1HR', 'return2HR', 'return12HR', 'return24HR'])"
   ]
  },
  {
   "cell_type": "code",
   "execution_count": 26,
   "metadata": {},
   "outputs": [],
   "source": [
    "df1 = df.dropna()"
   ]
  },
  {
   "cell_type": "code",
   "execution_count": 35,
   "metadata": {},
   "outputs": [],
   "source": [
    "Return_series = [ 'return1HR',\n",
    " 'return2HR',\n",
    " 'return6HR',\n",
    " 'return12HR',\n",
    " 'return24HR']"
   ]
  },
  {
   "cell_type": "code",
   "execution_count": 29,
   "metadata": {},
   "outputs": [
    {
     "data": {
      "text/html": [
       "<div>\n",
       "<style scoped>\n",
       "    .dataframe tbody tr th:only-of-type {\n",
       "        vertical-align: middle;\n",
       "    }\n",
       "\n",
       "    .dataframe tbody tr th {\n",
       "        vertical-align: top;\n",
       "    }\n",
       "\n",
       "    .dataframe thead th {\n",
       "        text-align: right;\n",
       "    }\n",
       "</style>\n",
       "<table border=\"1\" class=\"dataframe\">\n",
       "  <thead>\n",
       "    <tr style=\"text-align: right;\">\n",
       "      <th></th>\n",
       "      <th>return1HR</th>\n",
       "      <th>return2HR</th>\n",
       "      <th>return6HR</th>\n",
       "      <th>return12HR</th>\n",
       "      <th>return24HR</th>\n",
       "    </tr>\n",
       "  </thead>\n",
       "  <tbody>\n",
       "    <tr>\n",
       "      <th>return1HR</th>\n",
       "      <td>1.000000</td>\n",
       "      <td>0.625288</td>\n",
       "      <td>0.319140</td>\n",
       "      <td>0.233096</td>\n",
       "      <td>0.167769</td>\n",
       "    </tr>\n",
       "    <tr>\n",
       "      <th>return2HR</th>\n",
       "      <td>0.625288</td>\n",
       "      <td>1.000000</td>\n",
       "      <td>0.519401</td>\n",
       "      <td>0.378915</td>\n",
       "      <td>0.267979</td>\n",
       "    </tr>\n",
       "    <tr>\n",
       "      <th>return6HR</th>\n",
       "      <td>0.319140</td>\n",
       "      <td>0.519401</td>\n",
       "      <td>1.000000</td>\n",
       "      <td>0.705034</td>\n",
       "      <td>0.496739</td>\n",
       "    </tr>\n",
       "    <tr>\n",
       "      <th>return12HR</th>\n",
       "      <td>0.233096</td>\n",
       "      <td>0.378915</td>\n",
       "      <td>0.705034</td>\n",
       "      <td>1.000000</td>\n",
       "      <td>0.694786</td>\n",
       "    </tr>\n",
       "    <tr>\n",
       "      <th>return24HR</th>\n",
       "      <td>0.167769</td>\n",
       "      <td>0.267979</td>\n",
       "      <td>0.496739</td>\n",
       "      <td>0.694786</td>\n",
       "      <td>1.000000</td>\n",
       "    </tr>\n",
       "  </tbody>\n",
       "</table>\n",
       "</div>"
      ],
      "text/plain": [
       "            return1HR  return2HR  return6HR  return12HR  return24HR\n",
       "return1HR    1.000000   0.625288   0.319140    0.233096    0.167769\n",
       "return2HR    0.625288   1.000000   0.519401    0.378915    0.267979\n",
       "return6HR    0.319140   0.519401   1.000000    0.705034    0.496739\n",
       "return12HR   0.233096   0.378915   0.705034    1.000000    0.694786\n",
       "return24HR   0.167769   0.267979   0.496739    0.694786    1.000000"
      ]
     },
     "execution_count": 29,
     "metadata": {},
     "output_type": "execute_result"
    }
   ],
   "source": [
    "df1[Return_series].corr()"
   ]
  },
  {
   "cell_type": "code",
   "execution_count": 76,
   "metadata": {},
   "outputs": [
    {
     "data": {
      "image/png": "[encoded data removed]",
      "text/plain": [
       "<Figure size 1440x1080 with 4 Axes>"
      ]
     },
     "metadata": {
      "needs_background": "light"
     },
     "output_type": "display_data"
    }
   ],
   "source": [
    "fig , axs = plt.subplots(2,2,figsize=(20,15))\n",
    "for i in range(2):\n",
    "    for j in range(2):\n",
    "        ax = axs[i,j]\n",
    "        ax.scatter(df1['return24HR'],df1[features[i*2+j]])\n",
    "        ax.set_title(features[i*2+j])"
   ]
  },
  {
   "cell_type": "code",
   "execution_count": 31,
   "metadata": {},
   "outputs": [
    {
     "data": {
      "text/plain": [
       "<matplotlib.axes._subplots.AxesSubplot at 0x1fa54e90f70>"
      ]
     },
     "execution_count": 31,
     "metadata": {},
     "output_type": "execute_result"
    },
    {
     "data": {
      "image/png": "[encoded data removed]",
      "text/plain": [
       "<Figure size 1080x720 with 2 Axes>"
      ]
     },
     "metadata": {
      "needs_background": "light"
     },
     "output_type": "display_data"
    }
   ],
   "source": [
    "plt.figure(figsize=(15,10))\n",
    "sns.heatmap(df1[Return_series].corr())"
   ]
  },
  {
   "cell_type": "code",
   "execution_count": 33,
   "metadata": {},
   "outputs": [],
   "source": [
    "from sklearn.linear_model import LinearRegression, Ridge, Lasso\n",
    "from sklearn.model_selection import train_test_split"
   ]
  },
  {
   "cell_type": "code",
   "execution_count": 61,
   "metadata": {},
   "outputs": [],
   "source": [
    "features = [ 'return1HR',\n",
    " 'return2HR',\n",
    " 'return6HR',\n",
    " 'return12HR']"
   ]
  },
  {
   "cell_type": "code",
   "execution_count": 62,
   "metadata": {},
   "outputs": [],
   "source": [
    "X = df1[features]"
   ]
  },
  {
   "cell_type": "code",
   "execution_count": 65,
   "metadata": {},
   "outputs": [],
   "source": [
    "y = df1['return24HR']"
   ]
  },
  {
   "cell_type": "code",
   "execution_count": 66,
   "metadata": {},
   "outputs": [],
   "source": [
    "train_X, test_X, train_y, test_y = train_test_split(X,y,test_size = 0.2, random_state = 1)"
   ]
  },
  {
   "cell_type": "code",
   "execution_count": 67,
   "metadata": {},
   "outputs": [
    {
     "data": {
      "text/plain": [
       "LinearRegression()"
      ]
     },
     "execution_count": 67,
     "metadata": {},
     "output_type": "execute_result"
    }
   ],
   "source": [
    "lm = LinearRegression()\n",
    "lm.fit(train_X,train_y)"
   ]
  },
  {
   "cell_type": "code",
   "execution_count": 68,
   "metadata": {},
   "outputs": [
    {
     "name": "stdout",
     "output_type": "stream",
     "text": [
      "|    | predictor   |   coefficient |\n",
      "|---:|:------------|--------------:|\n",
      "|  0 | return1HR   |    0.0267759  |\n",
      "|  1 | return2HR   |   -0.00435619 |\n",
      "|  2 | return6HR   |    0.0236862  |\n",
      "|  3 | return12HR  |    0.908566   |\n",
      "|  4 | Intercept   |    0.00396813 |\n"
     ]
    }
   ],
   "source": [
    "result = pd.DataFrame( {'predictor': features , 'coefficient':lm.coef_} )\n",
    "intercept = pd.DataFrame({'predictor':'Intercept','coefficient':[lm.intercept_]})\n",
    "result = pd.concat([result,intercept],ignore_index=True)\n",
    "print(result.to_markdown())"
   ]
  },
  {
   "cell_type": "code",
   "execution_count": 71,
   "metadata": {},
   "outputs": [
    {
     "name": "stdout",
     "output_type": "stream",
     "text": [
      "train dataset : 0.4829074763204948\n",
      "test dataset : 0.4825572596262905\n"
     ]
    }
   ],
   "source": [
    "train_acc = lm.score(train_X, train_y)\n",
    "test_acc = lm.score(test_X, test_y)\n",
    "print('train dataset :',train_acc)\n",
    "print('test dataset :',test_acc)"
   ]
  },
  {
   "cell_type": "code",
   "execution_count": 72,
   "metadata": {},
   "outputs": [
    {
     "data": {
      "text/plain": [
       "Lasso()"
      ]
     },
     "execution_count": 72,
     "metadata": {},
     "output_type": "execute_result"
    }
   ],
   "source": [
    "lasso = Lasso()\n",
    "lasso.fit(train_X,train_y)"
   ]
  },
  {
   "cell_type": "code",
   "execution_count": 73,
   "metadata": {},
   "outputs": [
    {
     "name": "stdout",
     "output_type": "stream",
     "text": [
      "|    | predictor   |   coefficient |\n",
      "|---:|:------------|--------------:|\n",
      "|  0 | return1HR   |    0          |\n",
      "|  1 | return2HR   |    0          |\n",
      "|  2 | return6HR   |    0          |\n",
      "|  3 | return12HR  |    0          |\n",
      "|  4 | Intercept   |    0.00693117 |\n"
     ]
    }
   ],
   "source": [
    "result = pd.DataFrame( {'predictor': features , 'coefficient':lasso.coef_} )\n",
    "intercept = pd.DataFrame({'predictor':'Intercept','coefficient':[lasso.intercept_]})\n",
    "result = pd.concat([result,intercept],ignore_index=True)\n",
    "print(result.to_markdown())"
   ]
  },
  {
   "cell_type": "code",
   "execution_count": 77,
   "metadata": {},
   "outputs": [
    {
     "name": "stdout",
     "output_type": "stream",
     "text": [
      "train dataset : 0.0\n",
      "test dataset : -4.30351927205308e-06\n"
     ]
    }
   ],
   "source": [
    "train_acc = lasso.score(train_X, train_y)\n",
    "test_acc = lasso.score(test_X, test_y)\n",
    "print('train dataset :',train_acc)\n",
    "print('test dataset :',test_acc)"
   ]
  },
  {
   "cell_type": "code",
   "execution_count": 79,
   "metadata": {},
   "outputs": [
    {
     "data": {
      "text/plain": [
       "Ridge()"
      ]
     },
     "execution_count": 79,
     "metadata": {},
     "output_type": "execute_result"
    }
   ],
   "source": [
    "ridge = Ridge()\n",
    "ridge.fit(train_X,train_y)"
   ]
  },
  {
   "cell_type": "code",
   "execution_count": 80,
   "metadata": {},
   "outputs": [
    {
     "name": "stdout",
     "output_type": "stream",
     "text": [
      "|    | predictor   |   coefficient |\n",
      "|---:|:------------|--------------:|\n",
      "|  0 | return1HR   |    0.0265448  |\n",
      "|  1 | return2HR   |   -0.00422373 |\n",
      "|  2 | return6HR   |    0.0241035  |\n",
      "|  3 | return12HR  |    0.90811    |\n",
      "|  4 | Intercept   |    0.00396893 |\n"
     ]
    }
   ],
   "source": [
    "result = pd.DataFrame( {'predictor': features , 'coefficient':ridge.coef_} )\n",
    "intercept = pd.DataFrame({'predictor':'Intercept','coefficient':[ridge.intercept_]})\n",
    "result = pd.concat([result,intercept],ignore_index=True)\n",
    "print(result.to_markdown())"
   ]
  },
  {
   "cell_type": "code",
   "execution_count": 81,
   "metadata": {},
   "outputs": [
    {
     "name": "stdout",
     "output_type": "stream",
     "text": [
      "train dataset : 0.48290741557880246\n",
      "test dataset : 0.48255790501944895\n"
     ]
    }
   ],
   "source": [
    "train_acc = ridge.score(train_X, train_y)\n",
    "test_acc = ridge.score(test_X, test_y)\n",
    "print('train dataset :',train_acc)\n",
    "print('test dataset :',test_acc)"
   ]
  },
  {
   "cell_type": "code",
   "execution_count": 113,
   "metadata": {},
   "outputs": [],
   "source": [
    "from sklearn.model_selection import cross_val_score\n",
    "lm = LinearRegression()\n",
    "lasso = Lasso()\n",
    "ridge = Ridge()\n",
    "model = [lm,lasso,ridge]\n",
    "scores = {}\n",
    "for mod in model:\n",
    "    name = str(mod)[:-2]\n",
    "    score = cross_val_score(mod, X, y, cv=5)\n",
    "    scores[name] = (score.mean(),score.std())"
   ]
  },
  {
   "cell_type": "code",
   "execution_count": 115,
   "metadata": {},
   "outputs": [
    {
     "data": {
      "text/plain": [
       "{'LinearRegression': (0.4575810053530701, 0.09553877410267175),\n",
       " 'Lasso': (-0.11775326419379013, 0.10695441046987392),\n",
       " 'Ridge': (0.4575756366840865, 0.09549696918204743)}"
      ]
     },
     "execution_count": 115,
     "metadata": {},
     "output_type": "execute_result"
    }
   ],
   "source": [
    "scores"
   ]
  },
  {
   "cell_type": "code",
   "execution_count": 110,
   "metadata": {},
   "outputs": [
    {
     "data": {
      "text/plain": [
       "array([ 0.29335194,  0.3311665 ,  0.63433545,  0.456731  ,  0.36511556,\n",
       "        0.43346166,  0.31001904, -0.01865169,  0.46762692,  0.4478721 ])"
      ]
     },
     "execution_count": 110,
     "metadata": {},
     "output_type": "execute_result"
    }
   ],
   "source": [
    "score"
   ]
  },
  {
   "cell_type": "code",
   "execution_count": 116,
   "metadata": {},
   "outputs": [
    {
     "data": {
      "text/html": [
       "<div>\n",
       "<style scoped>\n",
       "    .dataframe tbody tr th:only-of-type {\n",
       "        vertical-align: middle;\n",
       "    }\n",
       "\n",
       "    .dataframe tbody tr th {\n",
       "        vertical-align: top;\n",
       "    }\n",
       "\n",
       "    .dataframe thead th {\n",
       "        text-align: right;\n",
       "    }\n",
       "</style>\n",
       "<table border=\"1\" class=\"dataframe\">\n",
       "  <thead>\n",
       "    <tr style=\"text-align: right;\">\n",
       "      <th></th>\n",
       "      <th>tweets</th>\n",
       "      <th>return1HR</th>\n",
       "      <th>return2HR</th>\n",
       "      <th>return6HR</th>\n",
       "      <th>return12HR</th>\n",
       "      <th>return24HR</th>\n",
       "      <th>user_followers</th>\n",
       "      <th>user_verified</th>\n",
       "      <th>user_friends</th>\n",
       "      <th>user_favourites</th>\n",
       "      <th>is_retweet</th>\n",
       "      <th>cleaned_text</th>\n",
       "    </tr>\n",
       "    <tr>\n",
       "      <th>date</th>\n",
       "      <th></th>\n",
       "      <th></th>\n",
       "      <th></th>\n",
       "      <th></th>\n",
       "      <th></th>\n",
       "      <th></th>\n",
       "      <th></th>\n",
       "      <th></th>\n",
       "      <th></th>\n",
       "      <th></th>\n",
       "      <th></th>\n",
       "      <th></th>\n",
       "    </tr>\n",
       "  </thead>\n",
       "  <tbody>\n",
       "    <tr>\n",
       "      <th>2021-02-06 11:00:00</th>\n",
       "      <td>['shenzhen', 'stock', 'incloud', 'pack', 'and'...</td>\n",
       "      <td>-0.004443</td>\n",
       "      <td>0.016445</td>\n",
       "      <td>0.039654</td>\n",
       "      <td>0.036614</td>\n",
       "      <td>0.052261</td>\n",
       "      <td>7.0</td>\n",
       "      <td>False</td>\n",
       "      <td>29.0</td>\n",
       "      <td>8.0</td>\n",
       "      <td>False</td>\n",
       "      <td>['shenzhen', 'stock', 'incloud', 'pack', 'and'...</td>\n",
       "    </tr>\n",
       "    <tr>\n",
       "      <th>2021-02-06 11:00:00</th>\n",
       "      <td>['feb', 'a', 'link', 'to', 'an', 'earli', 'ver...</td>\n",
       "      <td>-0.004443</td>\n",
       "      <td>0.016445</td>\n",
       "      <td>0.039654</td>\n",
       "      <td>0.036614</td>\n",
       "      <td>0.052261</td>\n",
       "      <td>299.0</td>\n",
       "      <td>False</td>\n",
       "      <td>1.0</td>\n",
       "      <td>57.0</td>\n",
       "      <td>False</td>\n",
       "      <td>['feb', 'a', 'link', 'to', 'an', 'earli', 'ver...</td>\n",
       "    </tr>\n",
       "    <tr>\n",
       "      <th>2021-02-06 11:00:00</th>\n",
       "      <td>['follow', 'me', 'crypto', 'friend', 'follow',...</td>\n",
       "      <td>-0.004443</td>\n",
       "      <td>0.016445</td>\n",
       "      <td>0.039654</td>\n",
       "      <td>0.036614</td>\n",
       "      <td>0.052261</td>\n",
       "      <td>16.0</td>\n",
       "      <td>False</td>\n",
       "      <td>99.0</td>\n",
       "      <td>70.0</td>\n",
       "      <td>False</td>\n",
       "      <td>['follow', 'me', 'crypto', 'friend', 'follow',...</td>\n",
       "    </tr>\n",
       "    <tr>\n",
       "      <th>2021-02-06 11:00:00</th>\n",
       "      <td>['what', 'do', 'you', 'do', 'when', 'in', 'pro...</td>\n",
       "      <td>-0.004443</td>\n",
       "      <td>0.016445</td>\n",
       "      <td>0.039654</td>\n",
       "      <td>0.036614</td>\n",
       "      <td>0.052261</td>\n",
       "      <td>333.0</td>\n",
       "      <td>False</td>\n",
       "      <td>106.0</td>\n",
       "      <td>11552.0</td>\n",
       "      <td>False</td>\n",
       "      <td>['what', 'do', 'you', 'do', 'when', 'in', 'pro...</td>\n",
       "    </tr>\n",
       "    <tr>\n",
       "      <th>2021-02-06 11:00:00</th>\n",
       "      <td>['but', 'as', 'the', 'momentum', 'for', 'price...</td>\n",
       "      <td>-0.004443</td>\n",
       "      <td>0.016445</td>\n",
       "      <td>0.039654</td>\n",
       "      <td>0.036614</td>\n",
       "      <td>0.052261</td>\n",
       "      <td>690.0</td>\n",
       "      <td>False</td>\n",
       "      <td>97.0</td>\n",
       "      <td>569.0</td>\n",
       "      <td>False</td>\n",
       "      <td>['but', 'as', 'the', 'momentum', 'for', 'price...</td>\n",
       "    </tr>\n",
       "    <tr>\n",
       "      <th>...</th>\n",
       "      <td>...</td>\n",
       "      <td>...</td>\n",
       "      <td>...</td>\n",
       "      <td>...</td>\n",
       "      <td>...</td>\n",
       "      <td>...</td>\n",
       "      <td>...</td>\n",
       "      <td>...</td>\n",
       "      <td>...</td>\n",
       "      <td>...</td>\n",
       "      <td>...</td>\n",
       "      <td>...</td>\n",
       "    </tr>\n",
       "    <tr>\n",
       "      <th>2021-12-12</th>\n",
       "      <td>['michael', 'bitcoin', 'bitcoin', 'total', 'Bn...</td>\n",
       "      <td>0.003524</td>\n",
       "      <td>0.008592</td>\n",
       "      <td>-0.098025</td>\n",
       "      <td>-0.104463</td>\n",
       "      <td>-0.167440</td>\n",
       "      <td>44.0</td>\n",
       "      <td>False</td>\n",
       "      <td>3.0</td>\n",
       "      <td>5.0</td>\n",
       "      <td>False</td>\n",
       "      <td>['michael', 'bitcoin', 'bitcoin', 'total', 'Bn...</td>\n",
       "    </tr>\n",
       "    <tr>\n",
       "      <th>2021-12-12</th>\n",
       "      <td>['If', 'you', 'join', 'In', 'At', 'you', 'will...</td>\n",
       "      <td>0.003524</td>\n",
       "      <td>0.008592</td>\n",
       "      <td>-0.098025</td>\n",
       "      <td>-0.104463</td>\n",
       "      <td>-0.167440</td>\n",
       "      <td>1114.0</td>\n",
       "      <td>False</td>\n",
       "      <td>622.0</td>\n",
       "      <td>233.0</td>\n",
       "      <td>False</td>\n",
       "      <td>['If', 'you', 'join', 'In', 'At', 'you', 'will...</td>\n",
       "    </tr>\n",
       "    <tr>\n",
       "      <th>2021-12-12</th>\n",
       "      <td>['crypto', 'price', 'bitcoin', 'axieinfin', 'v...</td>\n",
       "      <td>0.003524</td>\n",
       "      <td>0.008592</td>\n",
       "      <td>-0.098025</td>\n",
       "      <td>-0.104463</td>\n",
       "      <td>-0.167440</td>\n",
       "      <td>15.0</td>\n",
       "      <td>False</td>\n",
       "      <td>1.0</td>\n",
       "      <td>421.0</td>\n",
       "      <td>False</td>\n",
       "      <td>['crypto', 'price', 'bitcoin', 'axieinfin', 'v...</td>\n",
       "    </tr>\n",
       "    <tr>\n",
       "      <th>2021-12-12</th>\n",
       "      <td>['retest', 'the', 'previou', 'support', 'as', ...</td>\n",
       "      <td>0.003524</td>\n",
       "      <td>0.008592</td>\n",
       "      <td>-0.098025</td>\n",
       "      <td>-0.104463</td>\n",
       "      <td>-0.167440</td>\n",
       "      <td>1986.0</td>\n",
       "      <td>False</td>\n",
       "      <td>16.0</td>\n",
       "      <td>14526.0</td>\n",
       "      <td>False</td>\n",
       "      <td>['retest', 'the', 'previou', 'support', 'as', ...</td>\n",
       "    </tr>\n",
       "    <tr>\n",
       "      <th>2021-12-12</th>\n",
       "      <td>['up', 'over']</td>\n",
       "      <td>0.003524</td>\n",
       "      <td>0.008592</td>\n",
       "      <td>-0.098025</td>\n",
       "      <td>-0.104463</td>\n",
       "      <td>-0.167440</td>\n",
       "      <td>1129.0</td>\n",
       "      <td>False</td>\n",
       "      <td>257.0</td>\n",
       "      <td>13175.0</td>\n",
       "      <td>False</td>\n",
       "      <td>['up', 'over']</td>\n",
       "    </tr>\n",
       "  </tbody>\n",
       "</table>\n",
       "<p>1946578 rows × 12 columns</p>\n",
       "</div>"
      ],
      "text/plain": [
       "                                                                tweets  \\\n",
       "date                                                                     \n",
       "2021-02-06 11:00:00  ['shenzhen', 'stock', 'incloud', 'pack', 'and'...   \n",
       "2021-02-06 11:00:00  ['feb', 'a', 'link', 'to', 'an', 'earli', 'ver...   \n",
       "2021-02-06 11:00:00  ['follow', 'me', 'crypto', 'friend', 'follow',...   \n",
       "2021-02-06 11:00:00  ['what', 'do', 'you', 'do', 'when', 'in', 'pro...   \n",
       "2021-02-06 11:00:00  ['but', 'as', 'the', 'momentum', 'for', 'price...   \n",
       "...                                                                ...   \n",
       "2021-12-12           ['michael', 'bitcoin', 'bitcoin', 'total', 'Bn...   \n",
       "2021-12-12           ['If', 'you', 'join', 'In', 'At', 'you', 'will...   \n",
       "2021-12-12           ['crypto', 'price', 'bitcoin', 'axieinfin', 'v...   \n",
       "2021-12-12           ['retest', 'the', 'previou', 'support', 'as', ...   \n",
       "2021-12-12                                              ['up', 'over']   \n",
       "\n",
       "                     return1HR  return2HR  return6HR  return12HR  return24HR  \\\n",
       "date                                                                           \n",
       "2021-02-06 11:00:00  -0.004443   0.016445   0.039654    0.036614    0.052261   \n",
       "2021-02-06 11:00:00  -0.004443   0.016445   0.039654    0.036614    0.052261   \n",
       "2021-02-06 11:00:00  -0.004443   0.016445   0.039654    0.036614    0.052261   \n",
       "2021-02-06 11:00:00  -0.004443   0.016445   0.039654    0.036614    0.052261   \n",
       "2021-02-06 11:00:00  -0.004443   0.016445   0.039654    0.036614    0.052261   \n",
       "...                        ...        ...        ...         ...         ...   \n",
       "2021-12-12            0.003524   0.008592  -0.098025   -0.104463   -0.167440   \n",
       "2021-12-12            0.003524   0.008592  -0.098025   -0.104463   -0.167440   \n",
       "2021-12-12            0.003524   0.008592  -0.098025   -0.104463   -0.167440   \n",
       "2021-12-12            0.003524   0.008592  -0.098025   -0.104463   -0.167440   \n",
       "2021-12-12            0.003524   0.008592  -0.098025   -0.104463   -0.167440   \n",
       "\n",
       "                     user_followers  user_verified  user_friends  \\\n",
       "date                                                               \n",
       "2021-02-06 11:00:00             7.0          False          29.0   \n",
       "2021-02-06 11:00:00           299.0          False           1.0   \n",
       "2021-02-06 11:00:00            16.0          False          99.0   \n",
       "2021-02-06 11:00:00           333.0          False         106.0   \n",
       "2021-02-06 11:00:00           690.0          False          97.0   \n",
       "...                             ...            ...           ...   \n",
       "2021-12-12                     44.0          False           3.0   \n",
       "2021-12-12                   1114.0          False         622.0   \n",
       "2021-12-12                     15.0          False           1.0   \n",
       "2021-12-12                   1986.0          False          16.0   \n",
       "2021-12-12                   1129.0          False         257.0   \n",
       "\n",
       "                     user_favourites is_retweet  \\\n",
       "date                                              \n",
       "2021-02-06 11:00:00              8.0      False   \n",
       "2021-02-06 11:00:00             57.0      False   \n",
       "2021-02-06 11:00:00             70.0      False   \n",
       "2021-02-06 11:00:00          11552.0      False   \n",
       "2021-02-06 11:00:00            569.0      False   \n",
       "...                              ...        ...   \n",
       "2021-12-12                       5.0      False   \n",
       "2021-12-12                     233.0      False   \n",
       "2021-12-12                     421.0      False   \n",
       "2021-12-12                   14526.0      False   \n",
       "2021-12-12                   13175.0      False   \n",
       "\n",
       "                                                          cleaned_text  \n",
       "date                                                                    \n",
       "2021-02-06 11:00:00  ['shenzhen', 'stock', 'incloud', 'pack', 'and'...  \n",
       "2021-02-06 11:00:00  ['feb', 'a', 'link', 'to', 'an', 'earli', 'ver...  \n",
       "2021-02-06 11:00:00  ['follow', 'me', 'crypto', 'friend', 'follow',...  \n",
       "2021-02-06 11:00:00  ['what', 'do', 'you', 'do', 'when', 'in', 'pro...  \n",
       "2021-02-06 11:00:00  ['but', 'as', 'the', 'momentum', 'for', 'price...  \n",
       "...                                                                ...  \n",
       "2021-12-12           ['michael', 'bitcoin', 'bitcoin', 'total', 'Bn...  \n",
       "2021-12-12           ['If', 'you', 'join', 'In', 'At', 'you', 'will...  \n",
       "2021-12-12           ['crypto', 'price', 'bitcoin', 'axieinfin', 'v...  \n",
       "2021-12-12           ['retest', 'the', 'previou', 'support', 'as', ...  \n",
       "2021-12-12                                              ['up', 'over']  \n",
       "\n",
       "[1946578 rows x 12 columns]"
      ]
     },
     "execution_count": 116,
     "metadata": {},
     "output_type": "execute_result"
    }
   ],
   "source": [
    "df1"
   ]
  },
  {
   "cell_type": "code",
   "execution_count": 141,
   "metadata": {},
   "outputs": [],
   "source": [
    "a = ['hi']\n",
    "b = ['eiei']\n",
    "a.extend(b)"
   ]
  },
  {
   "cell_type": "code",
   "execution_count": 142,
   "metadata": {},
   "outputs": [
    {
     "data": {
      "text/plain": [
       "['hi', 'eiei']"
      ]
     },
     "execution_count": 142,
     "metadata": {},
     "output_type": "execute_result"
    }
   ],
   "source": [
    "a"
   ]
  },
  {
   "cell_type": "code",
   "execution_count": 165,
   "metadata": {},
   "outputs": [],
   "source": [
    "clf_dict = {}\n",
    "for i in range(len((df1.index))):\n",
    "    date = df1.index[i]\n",
    "    values = eval(df1.tweets[i])\n",
    "    try:\n",
    "        clf_dict[date].extend(values)\n",
    "    except:\n",
    "        clf_dict[date] = []"
   ]
  },
  {
   "cell_type": "code",
   "execution_count": 164,
   "metadata": {},
   "outputs": [
    {
     "data": {
      "text/plain": [
       "{'2021-02-06 11:00:00': ['feb',\n",
       "  'a',\n",
       "  'link',\n",
       "  'to',\n",
       "  'an',\n",
       "  'earli',\n",
       "  'version',\n",
       "  'of',\n",
       "  'the',\n",
       "  'first',\n",
       "  'bitcoinmarket',\n",
       "  'wa',\n",
       "  'post',\n",
       "  'on',\n",
       "  'the',\n",
       "  'follow',\n",
       "  'me',\n",
       "  'crypto',\n",
       "  'friend',\n",
       "  'follow',\n",
       "  'you',\n",
       "  'too',\n",
       "  'what',\n",
       "  'do',\n",
       "  'you',\n",
       "  'do',\n",
       "  'when',\n",
       "  'in',\n",
       "  'profit',\n",
       "  'with',\n",
       "  'but',\n",
       "  'as',\n",
       "  'the',\n",
       "  'momentum',\n",
       "  'for',\n",
       "  'price',\n",
       "  'surg',\n",
       "  'gather',\n",
       "  'we',\n",
       "  'were',\n",
       "  'besieg',\n",
       "  'by']}"
      ]
     },
     "execution_count": 164,
     "metadata": {},
     "output_type": "execute_result"
    }
   ],
   "source": [
    "clf_dict"
   ]
  },
  {
   "cell_type": "code",
   "execution_count": null,
   "metadata": {},
   "outputs": [],
   "source": []
  }
 ],
 "metadata": {
  "kernelspec": {
   "display_name": "Python 3",
   "language": "python",
   "name": "python3"
  },
  "language_info": {
   "codemirror_mode": {
    "name": "ipython",
    "version": 3
   },
   "file_extension": ".py",
   "mimetype": "text/x-python",
   "name": "python",
   "nbconvert_exporter": "python",
   "pygments_lexer": "ipython3",
   "version": "3.8.3"
  }
 },
 "nbformat": 4,
 "nbformat_minor": 4
}
